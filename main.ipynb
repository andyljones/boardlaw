{
 "cells": [
  {
   "cell_type": "code",
   "execution_count": null,
   "metadata": {},
   "outputs": [],
   "source": [
    "from grid.refine import *\n",
    "\n",
    "df = observed_rates()"
   ]
  },
  {
   "cell_type": "code",
   "execution_count": null,
   "metadata": {},
   "outputs": [],
   "source": [
    "df.query('width > 64')"
   ]
  },
  {
   "cell_type": "code",
   "execution_count": null,
   "metadata": {},
   "outputs": [],
   "source": [
    "#df = data.load()\n",
    "\n",
    "interp = df.interpolate().where(df.bfill().notnull())\n",
    "stacked = interp.stack([1, 2, 3]).reset_index().dropna()\n",
    "stacked['flops'] = flops(stacked)\n",
    "stacked = stacked[stacked.elo_std < .5]\n",
    "\n",
    "best = stacked.groupby(['_time', 'boardsize']).elo.idxmax()\n",
    "best = stacked.loc[best]\n",
    "\n",
    "index = 10**np.linspace(0, np.log10(stacked.flops.max()), 1001)\n",
    "regular = pd.pivot_table(stacked, 'elo', ('flops',), ('boardsize', 'width', 'depth')).ffill().reindex(index, method='nearest')\n",
    "frontier = regular.expanding().max().groupby(axis=1, level=0).max().div(data.min_elos(), axis=1).mul(-1).add(1)\n",
    "\n",
    "with plt.style.context('seaborn-poster'):\n",
    "    slope = (frontier > .95).drop(11, axis=1).idxmax()\n",
    "    ax = slope.plot(logy=True, marker='o', linestyle='--', grid=True)\n",
    "    ax.set_ylabel('training FLOPS')\n",
    "    ax.set_xlabel('boardsize')\n",
    "    ax.set_title('FLOPS needed to hit 95% of perfect play is roughly linear')"
   ]
  },
  {
   "cell_type": "code",
   "execution_count": null,
   "metadata": {},
   "outputs": [],
   "source": [
    "smoothed = frontier.rolling(10, 5, center=True).mean().drop(11, axis=1)\n",
    "sixes = (smoothed > .6).idxmax()\n",
    "nines = (smoothed > .95).idxmax()\n"
   ]
  },
  {
   "cell_type": "code",
   "execution_count": null,
   "metadata": {},
   "outputs": [],
   "source": [
    "((.95 - .6)*-data.min_elos())/(np.log10(nines) - np.log10(sixes))"
   ]
  },
  {
   "cell_type": "code",
   "execution_count": null,
   "metadata": {},
   "outputs": [],
   "source": [
    "frontier = regular.expanding().max().groupby(axis=1, level=0).max()"
   ]
  },
  {
   "cell_type": "code",
   "execution_count": null,
   "metadata": {},
   "outputs": [],
   "source": [
    "nines/sixes"
   ]
  },
  {
   "cell_type": "code",
   "execution_count": null,
   "metadata": {},
   "outputs": [],
   "source": [
    "y = frontier.stack().rename('elo').reset_index()\n",
    "y['shifted'] = y.flops.div(x.set_index('boardsize').flops[y.boardsize.values].values)\n",
    "\n",
    "(ggplot(data=y)\n",
    "    + geom_line(aes(x='shifted', y='elo', color='boardsize', group='boardsize'), size=2)\n",
    "    + scale_x_continuous(trans='log10')\n",
    "    + coord_cartesian((-4, 1))\n",
    "    + labs(\n",
    "        x='FLOPS as a fraction of 95% of perfect play',\n",
    "        title='slope of the frontier seems the same across boardsizes?')\n",
    "    + plots.mpl_theme())"
   ]
  },
  {
   "cell_type": "code",
   "execution_count": null,
   "metadata": {},
   "outputs": [],
   "source": [
    "*slope ="
   ]
  },
  {
   "cell_type": "code",
   "execution_count": null,
   "metadata": {},
   "outputs": [],
   "source": [
    "x.flops"
   ]
  },
  {
   "cell_type": "code",
   "execution_count": null,
   "metadata": {},
   "outputs": [],
   "source": [
    "interp = df.interpolate().where(df.bfill().notnull()).ewm(span=5).mean()\n",
    "stacked = interp.stack([1, 2, 3]).reset_index().dropna()\n",
    "stacked['flops'] = flops(stacked)\n",
    "stacked = stacked[stacked.elo_std < .5]\n",
    "\n",
    "stacked['elo_flip'] = stacked.elo - data.min_elos()[stacked['boardsize'].values].values\n",
    "stacked['g'] = stacked.boardsize.astype(str) + stacked.width.astype(str) + stacked.depth.astype(str)\n",
    "finals = stacked.groupby(['boardsize', 'width', 'depth', '_time']).last().reset_index()\n",
    "\n",
    "(ggplot(data=finals) + \n",
    "    geom_line(aes(x='flops', y='elo_flip', color='boardsize', group='g')) +\n",
    "    scale_x_continuous(trans='log10'))\n",
    " "
   ]
  },
  {
   "cell_type": "code",
   "execution_count": null,
   "metadata": {},
   "outputs": [],
   "source": [
    "smf.ols('np.log10(flops) ~ boardsize + 1', x).fit().summary2()"
   ]
  },
  {
   "cell_type": "code",
   "execution_count": null,
   "metadata": {},
   "outputs": [],
   "source": [
    "x"
   ]
  }
 ],
 "metadata": {
  "kernelspec": {
   "display_name": "Python 3",
   "language": "python",
   "name": "python3"
  },
  "language_info": {
   "codemirror_mode": {
    "name": "ipython",
    "version": 3
   },
   "file_extension": ".py",
   "mimetype": "text/x-python",
   "name": "python",
   "nbconvert_exporter": "python",
   "pygments_lexer": "ipython3"
  }
 },
 "nbformat": 4,
 "nbformat_minor": 4
}
