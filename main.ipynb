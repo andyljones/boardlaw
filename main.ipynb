{
 "cells": [
  {
   "cell_type": "code",
   "execution_count": null,
   "metadata": {},
   "outputs": [],
   "source": [
    "from boardlaw.arena.multi import *\n",
    "evaluate()\n"
   ]
  },
  {
   "cell_type": "code",
   "execution_count": null,
   "metadata": {},
   "outputs": [],
   "source": [
    "!rm -rf /root/.cache/torch_extensions/"
   ]
  },
  {
   "cell_type": "code",
   "execution_count": null,
   "metadata": {},
   "outputs": [],
   "source": [
    "boardsize = 7\n",
    "\n",
    "agents = sql.agent_query().query(f'description == \"bee/{boardsize}\" & test_nodes == 64 & width >= 128')\n",
    "trials = (sql.trial_query(boardsize, 'bee/%')\n",
    "            .loc[lambda df: df.black_agent.isin(agents.index)]\n",
    "            .loc[lambda df: df.white_agent.isin(agents.index)])"
   ]
  },
  {
   "cell_type": "code",
   "execution_count": null,
   "metadata": {},
   "outputs": [],
   "source": [
    "_, games = elos.symmetrize(trials)\n",
    "games = games.reindex(index=agents.index, columns=agents.index).fillna(0)"
   ]
  },
  {
   "cell_type": "code",
   "execution_count": null,
   "metadata": {},
   "outputs": [],
   "source": [
    "import matplotlib.pyplot as plt\n",
    "plt.imshow(games)"
   ]
  },
  {
   "cell_type": "code",
   "execution_count": null,
   "metadata": {},
   "outputs": [],
   "source": [
    "sql.agent_query().query(f'description == \"bee/{boardsize}\" & test_nodes == 64 & width <= 128')"
   ]
  },
  {
   "cell_type": "code",
   "execution_count": null,
   "metadata": {},
   "outputs": [],
   "source": [
    "import gc\n",
    "ptrs = []\n",
    "for obj in gc.get_objects(2):\n",
    "    try:\n",
    "        if torch.is_tensor(obj) or (hasattr(obj, 'data') and torch.is_tensor(obj.data)):\n",
    "            ptrs.append(obj.data_ptr())\n",
    "    except:\n",
    "        pass\n",
    "new_ptrs = set(ptrs)"
   ]
  },
  {
   "cell_type": "code",
   "execution_count": null,
   "metadata": {},
   "outputs": [],
   "source": [
    "new_ptrs - old_ptrs"
   ]
  },
  {
   "cell_type": "code",
   "execution_count": null,
   "metadata": {},
   "outputs": [],
   "source": [
    "boardsize = 9\n",
    "agents = sql.agent_query().query(f'description == \"bee/{boardsize}\" & test_nodes == 64 & width >= 512')\n",
    "trials = (sql.trial_query(9, 'bee/%')\n",
    "            .loc[lambda df: df.black_agent.isin(agents.index)]\n",
    "            .loc[lambda df: df.white_agent.isin(agents.index)])"
   ]
  },
  {
   "cell_type": "code",
   "execution_count": null,
   "metadata": {},
   "outputs": [],
   "source": [
    "sizes = 4 * agents.width**2 * agents.depth\n",
    "n_games_per = 512\n",
    "chunks = []\n",
    "chunk = []\n",
    "for current in sizes.index:\n",
    "    size = len(chunk)*n_games_per*sizes[chunk].sum()\n",
    "    if size > 1e9:\n",
    "        chunks.append(chunk)\n",
    "        chunk = []\n",
    "    chunk.append(current)"
   ]
  },
  {
   "cell_type": "code",
   "execution_count": null,
   "metadata": {},
   "outputs": [],
   "source": [
    "sizes/1e6"
   ]
  },
  {
   "cell_type": "code",
   "execution_count": null,
   "metadata": {},
   "outputs": [],
   "source": []
  }
 ],
 "metadata": {
  "kernelspec": {
   "display_name": "Python 3",
   "language": "python",
   "name": "python3"
  },
  "language_info": {
   "codemirror_mode": {
    "name": "ipython",
    "version": 3
   },
   "file_extension": ".py",
   "mimetype": "text/x-python",
   "name": "python",
   "nbconvert_exporter": "python",
   "pygments_lexer": "ipython3"
  }
 },
 "nbformat": 4,
 "nbformat_minor": 4
}
