{
 "cells": [
  {
   "cell_type": "code",
   "execution_count": null,
   "metadata": {},
   "outputs": [],
   "source": [
    "from grid.refine import *\n",
    "\n",
    "df = observed_rates()\n",
    "\n",
    "keys = {}\n",
    "for i, r in df.iterrows():\n",
    "    ks = {}\n",
    "    for color in ['black', 'white']:\n",
    "        name = r[f'{color}_name']\n",
    "        key = f'{color}_key'\n",
    "        if name.startswith('mohex'):\n",
    "            ks[key] = f'{r.boardsize}-{name}'\n",
    "        elif name == 'latest':\n",
    "            ks[key] = f'{r.boardsize}B{r.width}W{r.depth}D+S'\n",
    "        else:\n",
    "            idx = name.split('.')[1] \n",
    "            ks[key] = f'{r.boardsize}B{r.width}W{r.depth}D{idx}S'\n",
    "    keys[i] = ks\n",
    "df = pd.concat([df, pd.DataFrame.from_dict(keys, orient='index')], 1)\n",
    "\n",
    "keyed = df[['black_key', 'white_key', 'black_wins', 'white_wins']]\n",
    "for b in [3, 5, 7, 9]:\n",
    "    aux = database.pandas(f'mohex-{b}').reset_index()\n",
    "    aux['black_key'] = f'{b}-' + aux.black_name\n",
    "    aux['white_key'] = f'{b}-' + aux.white_name\n",
    "    keyed = pd.concat([keyed, aux.reindex(columns=df.columns)])\n",
    "\n",
    "black_wins = pd.pivot_table(keyed, 'black_wins', 'black_key', 'white_key', aggfunc='sum').fillna(0)\n",
    "white_wins = pd.pivot_table(keyed, 'white_wins', 'black_key', 'white_key', aggfunc='sum').fillna(0)\n",
    "\n",
    "wins = black_wins + white_wins.T\n",
    "games = black_wins + white_wins + black_wins.T + white_wins.T\n",
    "\n",
    "targets = set(df.black_key.values) | set(df.white_key.values)\n",
    "targets = [t for t in targets if 'mohex' not in t]"
   ]
  },
  {
   "cell_type": "code",
   "execution_count": null,
   "metadata": {},
   "outputs": [],
   "source": [
    "with aljpy.parallel(solve) as p:\n",
    "    results = p.wait({t: p(t, games, wins) for t in targets})"
   ]
  },
  {
   "cell_type": "code",
   "execution_count": null,
   "metadata": {},
   "outputs": [],
   "source": [
    "results = pd.DataFrame.from_dict(results, orient='index')"
   ]
  },
  {
   "cell_type": "code",
   "execution_count": null,
   "metadata": {},
   "outputs": [],
   "source": [
    "aux = (df\n",
    "       .groupby('black_key').first()\n",
    "       .loc[lambda df: ~df.index.str.contains('mohex')]\n",
    "       .loc[:, ['run', 'boardsize', 'width', 'depth', 'black_name']])\n",
    "\n",
    "trans = {}\n",
    "for r, g in tqdm(aux.groupby('run')):\n",
    "    times = {f'snapshot.{idx}': pd.to_datetime(info['_created']) for idx, info in storage.snapshots(r).items()}\n",
    "    \n",
    "    samples = pd.DataFrame(stats.array(r, 'count.samples')).set_index('_time').tz_localize('UTC').cumsum()['total']\n",
    "    samps = {}\n",
    "    for s, t in times.items():\n",
    "        samps[s] = samples[:t].iloc[-1]\n",
    "    # This is approximate and I hate it\n",
    "    samps['latest'] = samples.iloc[-1]\n",
    "    \n",
    "    s = pd.Series(samps)[g.black_name.values]\n",
    "    s.index = g.index\n",
    "    trans[r] = s\n",
    "trans = pd.concat(trans).reset_index()\n",
    "trans.columns = ['run', 'black_key', 'samples']\n",
    "\n",
    "aux = pd.concat([aux, trans.set_index('black_key')['samples']], 1)"
   ]
  },
  {
   "cell_type": "code",
   "execution_count": null,
   "metadata": {},
   "outputs": [],
   "source": [
    "joint = pd.concat([aux, solns], 1)\n",
    "joint['g'] = joint.index.str[:-2]\n",
    "joint['flops'] = plots.flops(joint)\n",
    "joint['params'] = plots.params(joint)"
   ]
  },
  {
   "cell_type": "code",
   "execution_count": null,
   "metadata": {},
   "outputs": [],
   "source": []
  },
  {
   "cell_type": "code",
   "execution_count": null,
   "metadata": {},
   "outputs": [],
   "source": []
  },
  {
   "cell_type": "code",
   "execution_count": null,
   "metadata": {},
   "outputs": [],
   "source": [
    "(ggplot(data=joint[joint['black_name'] != 'snapshot.0'])\n",
    "    + geom_point(aes(x='flops', y='μ', group='g', color='params'))\n",
    "    + scale_x_continuous(trans='log10')\n",
    "    + scale_color_continuous(trans='log10')\n",
    "    + facet_wrap('boardsize', labeller='both')\n",
    "    + labs(title='incomplete refine results: i need to isolate the frontier and nail that down')\n",
    "    + plots.mpl_theme(12, 8)\n",
    "    + plots.poster_sizes())"
   ]
  },
  {
   "cell_type": "code",
   "execution_count": null,
   "metadata": {},
   "outputs": [],
   "source": [
    "from "
   ]
  },
  {
   "cell_type": "code",
   "execution_count": null,
   "metadata": {},
   "outputs": [],
   "source": []
  },
  {
   "cell_type": "code",
   "execution_count": null,
   "metadata": {},
   "outputs": [],
   "source": []
  },
  {
   "cell_type": "code",
   "execution_count": null,
   "metadata": {},
   "outputs": [],
   "source": []
  },
  {
   "cell_type": "code",
   "execution_count": null,
   "metadata": {},
   "outputs": [],
   "source": []
  },
  {
   "cell_type": "code",
   "execution_count": null,
   "metadata": {},
   "outputs": [],
   "source": []
  }
 ],
 "metadata": {
  "kernelspec": {
   "display_name": "Python 3",
   "language": "python",
   "name": "python3"
  },
  "language_info": {
   "codemirror_mode": {
    "name": "ipython",
    "version": 3
   },
   "file_extension": ".py",
   "mimetype": "text/x-python",
   "name": "python",
   "nbconvert_exporter": "python",
   "pygments_lexer": "ipython3"
  }
 },
 "nbformat": 4,
 "nbformat_minor": 4
}
