{
 "cells": [
  {
   "cell_type": "code",
   "execution_count": null,
   "metadata": {},
   "outputs": [],
   "source": [
    "from grid.refine import *\n",
    "\n",
    "df = runs.pandas().loc[lambda df: df.description.fillna(\"\").str.startswith(\"main/\")]\n",
    "df = pd.concat([df, pd.DataFrame(df.params.values.tolist(), df.index)], 1)\n",
    "df['n_snapshots'] = df._files.apply(lambda d: len([f for f in d if f.startswith('storage.snapshot')]))\n",
    "df = (df\n",
    "    .reset_index()\n",
    "    .groupby(['boardsize', 'width', 'depth'])\n",
    "    .apply(lambda g: g[g.n_snapshots == g.n_snapshots.max()].iloc[-1])\n",
    "    .set_index('run'))\n",
    "\n",
    "invocations = []\n",
    "for run in df.index:\n",
    "    for snapshot in list(storage.snapshots(run)) + [None]:\n",
    "        invocations.append((run, snapshot))\n",
    "invocations = np.random.permutation(invocations)\n",
    "\n",
    "archive = jittens.jobs.compress('.', '.jittens/bulk.tar.gz', ['credentials.json'])\n",
    "for run, snapshot in invocations:\n",
    "    jittens.jobs.submit(\n",
    "        cmd=f\"\"\"python -c \"from grid.refine import *; evaluate({quote(run)}, {snapshot})\" >logs.txt 2>&1\"\"\", \n",
    "        archive=archive, \n",
    "        resources={'cpu': 2, 'memory': 4})\n",
    "    "
   ]
  },
  {
   "cell_type": "code",
   "execution_count": null,
   "metadata": {},
   "outputs": [],
   "source": [
    "rm -rf .jittens"
   ]
  },
  {
   "cell_type": "code",
   "execution_count": null,
   "metadata": {},
   "outputs": [],
   "source": []
  },
  {
   "cell_type": "code",
   "execution_count": null,
   "metadata": {},
   "outputs": [],
   "source": [
    "files.remove(-51, 'arena.json')"
   ]
  },
  {
   "cell_type": "code",
   "execution_count": null,
   "metadata": {},
   "outputs": [],
   "source": [
    "from grid import plots\n",
    "plots.plot_compute_frontier(df)"
   ]
  },
  {
   "cell_type": "code",
   "execution_count": null,
   "metadata": {},
   "outputs": [],
   "source": [
    "df = data.load()"
   ]
  }
 ],
 "metadata": {
  "kernelspec": {
   "display_name": "Python 3",
   "language": "python",
   "name": "python3"
  },
  "language_info": {
   "codemirror_mode": {
    "name": "ipython",
    "version": 3
   },
   "file_extension": ".py",
   "mimetype": "text/x-python",
   "name": "python",
   "nbconvert_exporter": "python",
   "pygments_lexer": "ipython3"
  }
 },
 "nbformat": 4,
 "nbformat_minor": 4
}
