{
 "cells": [
  {
   "cell_type": "code",
   "execution_count": null,
   "metadata": {},
   "outputs": [],
   "source": []
  },
  {
   "cell_type": "code",
   "execution_count": null,
   "metadata": {},
   "outputs": [],
   "source": [
    "first = elos.solve(ws, gs)\n"
   ]
  },
  {
   "cell_type": "code",
   "execution_count": null,
   "metadata": {},
   "outputs": [],
   "source": [
    "N = ws.shape[0]\n",
    "ws2 = np.full((2*N, 2*N), np.nan)\n",
    "ws2[:N, :N] = ws\n",
    "ws2[-N:, -N:] = ws\n",
    "ws2[:N, -N:][np.diag_indices_from(ws)] = 256\n",
    "ws2[-N:, :N][np.diag_indices_from(ws)] = 256\n",
    "ws2 = pd.DataFrame(ws2)\n",
    "\n",
    "gs2 = np.full((2*N, 2*N), np.nan)\n",
    "gs2[:N, :N] = gs\n",
    "gs2[-N:, -N:] = gs\n",
    "gs2[:N, -N:][np.diag_indices_from(gs)] = 512\n",
    "gs2[-N:, :N][np.diag_indices_from(gs)] = 512\n",
    "gs2 = pd.DataFrame(gs2)\n"
   ]
  },
  {
   "cell_type": "code",
   "execution_count": null,
   "metadata": {},
   "outputs": [],
   "source": [
    "second = elos.solve(ws2, gs2)\n",
    "second = pd.Series(second.values[:N], ws.index)"
   ]
  },
  {
   "cell_type": "code",
   "execution_count": null,
   "metadata": {},
   "outputs": [],
   "source": [
    "pd.concat({'first': first, 'second': second}, 1).sort_values('first').plot.scatter('first', 'second')"
   ]
  },
  {
   "cell_type": "code",
   "execution_count": null,
   "metadata": {},
   "outputs": [],
   "source": [
    "ws2.values[,]"
   ]
  }
 ],
 "metadata": {
  "kernelspec": {
   "display_name": "Python 3",
   "language": "python",
   "name": "python3"
  },
  "language_info": {
   "codemirror_mode": {
    "name": "ipython",
    "version": 3
   },
   "file_extension": ".py",
   "mimetype": "text/x-python",
   "name": "python",
   "nbconvert_exporter": "python",
   "pygments_lexer": "ipython3"
  }
 },
 "nbformat": 4,
 "nbformat_minor": 4
}
