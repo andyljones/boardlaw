{
 "cells": [
  {
   "cell_type": "code",
   "execution_count": null,
   "metadata": {},
   "outputs": [],
   "source": [
    "from grid.refine import *\n",
    "\n",
    "df = observed_rates()\n",
    "\n",
    "keys = {}\n",
    "for i, r in df.iterrows():\n",
    "    ks = {}\n",
    "    for color in ['black', 'white']:\n",
    "        name = r[f'{color}_name']\n",
    "        key = f'{color}_key'\n",
    "        if name.startswith('mohex'):\n",
    "            ks[key] = f'{r.boardsize}-{name}'\n",
    "        elif name == 'latest':\n",
    "            ks[key] = f'{r.boardsize}B{r.width}W{r.depth}D+S'\n",
    "        else:\n",
    "            idx = name.split('.')[1] \n",
    "            ks[key] = f'{r.boardsize}B{r.width}W{r.depth}D{idx}S'\n",
    "    keys[i] = ks\n",
    "df = pd.concat([df, pd.DataFrame.from_dict(keys, orient='index')], 1)\n",
    "df = df[['black_key', 'white_key', 'black_wins', 'white_wins']]\n",
    "\n",
    "for b in [3, 5, 7, 9]:\n",
    "    aux = database.pandas(f'mohex-{b}').reset_index()\n",
    "    aux['black_key'] = f'{b}-' + aux.black_name\n",
    "    aux['white_key'] = f'{b}-' + aux.white_name\n",
    "    df = pd.concat([df, aux.reindex(columns=df.columns)])\n",
    "\n",
    "black_wins = pd.pivot_table(df, 'black_wins', 'black_key', 'white_key', aggfunc='sum').fillna(0)\n",
    "white_wins = pd.pivot_table(df, 'white_wins', 'black_key', 'white_key', aggfunc='sum').fillna(0)\n",
    "\n",
    "wins = black_wins + white_wins.T\n",
    "games = black_wins + white_wins + black_wins.T + white_wins.T\n",
    "\n",
    "targets = set(df.black_key.values) | set(df.white_key.values)\n",
    "targets = [t for t in targets if 'mohex' not in t]"
   ]
  },
  {
   "cell_type": "code",
   "execution_count": null,
   "metadata": {},
   "outputs": [],
   "source": [
    "with aljpy.parallel(solve) as p:\n",
    "    results = p.wait({t: p(t, games, wins) for t in targets[:5]})"
   ]
  },
  {
   "cell_type": "code",
   "execution_count": null,
   "metadata": {},
   "outputs": [],
   "source": [
    "pd.DataFrame.from_dict(results, orient='inde')"
   ]
  },
  {
   "cell_type": "code",
   "execution_count": null,
   "metadata": {},
   "outputs": [],
   "source": []
  },
  {
   "cell_type": "code",
   "execution_count": null,
   "metadata": {},
   "outputs": [],
   "source": []
  },
  {
   "cell_type": "code",
   "execution_count": null,
   "metadata": {},
   "outputs": [],
   "source": []
  },
  {
   "cell_type": "code",
   "execution_count": null,
   "metadata": {},
   "outputs": [],
   "source": []
  },
  {
   "cell_type": "code",
   "execution_count": null,
   "metadata": {},
   "outputs": [],
   "source": []
  },
  {
   "cell_type": "code",
   "execution_count": null,
   "metadata": {},
   "outputs": [],
   "source": []
  },
  {
   "cell_type": "code",
   "execution_count": null,
   "metadata": {},
   "outputs": [],
   "source": []
  },
  {
   "cell_type": "code",
   "execution_count": null,
   "metadata": {},
   "outputs": [],
   "source": []
  },
  {
   "cell_type": "code",
   "execution_count": null,
   "metadata": {},
   "outputs": [],
   "source": []
  },
  {
   "cell_type": "code",
   "execution_count": null,
   "metadata": {},
   "outputs": [],
   "source": []
  },
  {
   "cell_type": "code",
   "execution_count": null,
   "metadata": {},
   "outputs": [],
   "source": []
  },
  {
   "cell_type": "code",
   "execution_count": null,
   "metadata": {},
   "outputs": [],
   "source": []
  }
 ],
 "metadata": {
  "kernelspec": {
   "display_name": "Python 3",
   "language": "python",
   "name": "python3"
  }
 },
 "nbformat": 4,
 "nbformat_minor": 4
}
