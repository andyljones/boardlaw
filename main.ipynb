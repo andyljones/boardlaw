{
 "cells": [
  {
   "cell_type": "code",
   "execution_count": null,
   "metadata": {},
   "outputs": [],
   "source": [
    "from analysis.transitive import *"
   ]
  },
  {
   "cell_type": "code",
   "execution_count": null,
   "metadata": {},
   "outputs": [],
   "source": [
    "ref = ('2021-02-20 23-35-25 simple-market', 20)\n",
    "test = ('2021-02-20 22-17-16 bulky-frosts', 9)\n",
    "worlds = common.worlds(ref[0], 16*1024, device='cuda')\n",
    "ref = common.agent(*ref, device='cuda')\n",
    "test = common.agent(*test, device='cuda')\n",
    "\n",
    "df = pd.DataFrame(0, index=['ref', 'test'], columns=['black', 'white'])\n",
    "while True:\n",
    "    results = common.evaluate(worlds, {'ref': ref, 'test': test})\n",
    "    ws = pd.concat([pd.Series(r.wins, r.names) for r in results], 1)\n",
    "    ws.columns = ['black', 'white']\n",
    "    df += ws\n",
    "\n",
    "    wins = df.sum(1)\n",
    "    centre, gap = elo_range(wins.ref, wins.test)\n",
    "    \n",
    "    clear_output(wait=True)\n",
    "    print(df)\n",
    "    print(f'{centre:.0f}±{gap/2:.0f}')\n",
    "\n",
    "    if gap < 50:\n",
    "        break\n"
   ]
  },
  {
   "cell_type": "code",
   "execution_count": null,
   "metadata": {},
   "outputs": [],
   "source": [
    "centre, gap = elo_range(wins.ref, wins.test)\n",
    "\n",
    "clear_output(wait=True)\n",
    "print(df)\n",
    "print(f'{centre:.0f}±{gap/2:.0f}')"
   ]
  },
  {
   "cell_type": "code",
   "execution_count": null,
   "metadata": {},
   "outputs": [],
   "source": [
    "df = ags.query('boardsize == 9 & test_nodes == 1').copy()\n",
    "df['params'] = df.width**2 * df.depth\n",
    "df['label'] = df.width.astype(str) + '/' + df.depth.astype(str)\n",
    "\n",
    "(pn.ggplot(df,)\n",
    "    + pn.geom_text(pn.aes(x='train_flops', y='elo', group='run', color='depth', label='width'), size=3)\n",
    "    + pn.scale_x_continuous(trans='log10')\n",
    "    + pn.scale_color_continuous(trans='log10')\n",
    "    + plot.IEEE())"
   ]
  },
  {
   "cell_type": "code",
   "execution_count": null,
   "metadata": {},
   "outputs": [],
   "source": [
    "df.sort_values('idx').groupby('run').last().sort_values('elo')"
   ]
  },
  {
   "cell_type": "code",
   "execution_count": null,
   "metadata": {},
   "outputs": [],
   "source": [
    "elo_range(m, n)"
   ]
  }
 ],
 "metadata": {
  "kernelspec": {
   "display_name": "Python 3",
   "language": "python",
   "name": "python3"
  },
  "language_info": {
   "codemirror_mode": {
    "name": "ipython",
    "version": 3
   },
   "file_extension": ".py",
   "mimetype": "text/x-python",
   "name": "python",
   "nbconvert_exporter": "python",
   "pygments_lexer": "ipython3"
  }
 },
 "nbformat": 4,
 "nbformat_minor": 4
}
