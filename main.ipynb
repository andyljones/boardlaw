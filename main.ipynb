{
 "cells": [
  {
   "cell_type": "code",
   "execution_count": null,
   "metadata": {},
   "outputs": [],
   "source": [
    "from grid.eval import *"
   ]
  },
  {
   "cell_type": "code",
   "execution_count": null,
   "metadata": {},
   "outputs": [],
   "source": [
    "boardsize = 3\n",
    "n_workers = 8\n",
    "\n",
    "snaps = snapshots(boardsize)\n",
    "snaps = pd.concat([snaps, parameters(snaps)], 1)\n",
    "snaps['nickname'] = snaps.run.str.extract('.* (.*)', expand=False) + '.' + snaps.idx.astype(str)\n",
    "snaps['params'] = params(snaps)\n",
    "snaps = snaps.set_index('nickname')\n",
    "\n",
    "n_agents = len(snaps)\n",
    "wins  = pd.DataFrame(np.zeros((n_agents, n_agents)), snaps.index, snaps.index)\n",
    "games = pd.DataFrame(np.zeros((n_agents, n_agents)), snaps.index, snaps.index)\n",
    "\n",
    "soln = None"
   ]
  },
  {
   "cell_type": "code",
   "execution_count": null,
   "metadata": {},
   "outputs": [],
   "source": [
    "futures = {}\n",
    "with ProcessPoolExecutor(n_workers) as pool:\n",
    "    while True:\n",
    "        if len(futures) < n_workers:\n",
    "            try:\n",
    "                soln = activelo.solve(games, wins, soln=soln)\n",
    "                sugg = suggest(soln)\n",
    "            except InManifoldError:\n",
    "                soln = None\n",
    "                sugg = tuple(np.random.choice(snaps.index, (2,)))\n",
    "                log.warning('Got a manifold error; making a random suggestion')\n",
    "            futures[sugg] = pool.submit(evaluate, *sugg)\n",
    "        for key, future in list(futures.items()):\n",
    "            if future.done():\n",
    "                results = future.result()\n",
    "                games, wins = update(games, wins, results)\n",
    "                del futures[key]\n",
    "    \n",
    "        if soln is not None:\n",
    "            report(soln)\n",
    "            _, σ = arena.analysis.difference(soln, soln.μ.idxmin())\n",
    "            if σ.pow(2).mean()**.5 < .1:\n",
    "                break\n",
    "        \n",
    "        time.sleep(1)\n",
    "\n",
    "snaps['μ'], snaps['σ'] = arena.analysis.difference(soln, soln.μ.idxmin())"
   ]
  },
  {
   "cell_type": "code",
   "execution_count": null,
   "metadata": {},
   "outputs": [],
   "source": []
  },
  {
   "cell_type": "code",
   "execution_count": null,
   "metadata": {},
   "outputs": [],
   "source": [
    "n_agents = len(agents)\n",
    "wins  = pd.DataFrame(np.zeros((n_agents, n_agents)), list(agents), list(agents))\n",
    "games = pd.DataFrame(np.zeros((n_agents, n_agents)), list(agents), list(agents))\n",
    "soln = None"
   ]
  }
 ],
 "metadata": {
  "kernelspec": {
   "display_name": "Python 3",
   "language": "python",
   "name": "python3"
  }
 },
 "nbformat": 4,
 "nbformat_minor": 4
}
