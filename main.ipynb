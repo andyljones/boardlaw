{
 "cells": [
  {
   "cell_type": "code",
   "execution_count": null,
   "metadata": {},
   "outputs": [],
   "source": [
    "from grid.eval import *"
   ]
  },
  {
   "cell_type": "code",
   "execution_count": null,
   "metadata": {},
   "outputs": [],
   "source": [
    "boardsize = 5\n",
    "n_workers = 8\n",
    "\n",
    "snaps = snapshots(boardsize)\n",
    "snaps = pd.concat([snaps, parameters(snaps)], 1)\n",
    "snaps['nickname'] = snaps.run.str.extract('.* (.*)', expand=False) + '.' + snaps.idx.astype(str)\n",
    "snaps['params'] = params(snaps)\n",
    "snaps = snaps.set_index('nickname')\n",
    "\n",
    "games, wins = load(boardsize, snaps.index)\n",
    "\n",
    "soln = None\n",
    "futures = {}\n",
    "with ProcessPoolExecutor(n_workers) as pool:\n",
    "    while True:\n",
    "        try:\n",
    "            soln = activelo.solve(games, wins, soln=soln)\n",
    "        except InManifoldError:\n",
    "            soln = None\n",
    "            log.warning('Got a manifold error; throwing soln out')\n",
    "\n",
    "        for key, future in list(futures.items()):\n",
    "            if future.done():\n",
    "                results = future.result()\n",
    "                games, wins = update(games, wins, results)\n",
    "                del futures[key]\n",
    "                save(boardsize, games, wins)\n",
    "\n",
    "        while len(futures) < n_workers:\n",
    "            if soln is None:\n",
    "                sugg = tuple(np.random.choice(games.index, (2,)))\n",
    "            else:\n",
    "                sugg = suggest(soln)\n",
    "            \n",
    "            futures[sugg] = pool.submit(evaluate, *sugg)\n",
    "    \n",
    "        if soln is not None:\n",
    "            report(soln, games, futures)\n",
    "            _, σ = arena.analysis.difference(soln, soln.μ.idxmin())\n",
    "            if σ.pow(2).mean()**.5 < .01:\n",
    "                break\n",
    "        \n",
    "snaps['μ'], snaps['σ'] = arena.analysis.difference(soln, soln.μ.idxmin())"
   ]
  },
  {
   "cell_type": "code",
   "execution_count": null,
   "metadata": {},
   "outputs": [],
   "source": [
    "ProcessPoolExecutor??"
   ]
  },
  {
   "cell_type": "code",
   "execution_count": null,
   "metadata": {},
   "outputs": [],
   "source": [
    "from concurrent.futures.process import _process_worker"
   ]
  },
  {
   "cell_type": "code",
   "execution_count": null,
   "metadata": {},
   "outputs": [],
   "source": [
    "_process_worker??"
   ]
  }
 ],
 "metadata": {
  "kernelspec": {
   "display_name": "Python 3",
   "language": "python",
   "name": "python3"
  },
  "language_info": {
   "codemirror_mode": {
    "name": "ipython",
    "version": 3
   },
   "file_extension": ".py",
   "mimetype": "text/x-python",
   "name": "python",
   "nbconvert_exporter": "python",
   "pygments_lexer": "ipython3"
  }
 },
 "nbformat": 4,
 "nbformat_minor": 4
}
