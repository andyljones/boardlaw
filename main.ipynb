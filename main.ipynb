{
 "cells": [
  {
   "cell_type": "code",
   "execution_count": null,
   "metadata": {},
   "outputs": [],
   "source": [
    "from analysis.paper import *"
   ]
  },
  {
   "cell_type": "code",
   "execution_count": null,
   "metadata": {},
   "outputs": [],
   "source": [
    "ags = data.load()\n",
    "#TODO: Push this back into the database\n",
    "ags = data.with_times(ags)\n",
    "#upload(plot_hex)\n",
    "upload(plot_flops_curves, ags)\n",
    "upload(plot_frontiers, ags)\n",
    "upload(plot_direct_frontiers, ags)\n",
    "upload(plot_resid_var, ags)\n",
    "upload(plot_runtimes, ags)\n",
    "upload(plot_train_test, ags)\n",
    "upload(plot_elos)\n",
    "upload(plot_test, ags)\n",
    "upload(plot_calibrations)"
   ]
  },
  {
   "cell_type": "code",
   "execution_count": null,
   "metadata": {},
   "outputs": [],
   "source": [
    "overleaf.table(boardsize_hyperparams_table(ags), 'boardsize_hyperparams')"
   ]
  },
  {
   "cell_type": "code",
   "execution_count": null,
   "metadata": {},
   "outputs": [],
   "source": []
  }
 ],
 "metadata": {
  "kernelspec": {
   "display_name": "Python 3",
   "language": "python",
   "name": "python3"
  },
  "language_info": {
   "codemirror_mode": {
    "name": "ipython",
    "version": 3
   },
   "file_extension": ".py",
   "mimetype": "text/x-python",
   "name": "python",
   "nbconvert_exporter": "python",
   "pygments_lexer": "ipython3"
  }
 },
 "nbformat": 4,
 "nbformat_minor": 4
}
