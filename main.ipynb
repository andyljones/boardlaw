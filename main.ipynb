{
 "cells": [
  {
   "cell_type": "code",
   "execution_count": null,
   "metadata": {},
   "outputs": [],
   "source": [
    "from grid.refine import *"
   ]
  },
  {
   "cell_type": "code",
   "execution_count": null,
   "metadata": {},
   "outputs": [],
   "source": [
    "keyed = keyed_arena()[['black_key', 'white_key', 'black_wins', 'white_wins']]\n",
    "for b in [3, 5, 7, 9]:\n",
    "    aux = database.pandas(f'mohex-{b}').reset_index()\n",
    "    aux['black_key'] = f'{b}-' + aux.black_name\n",
    "    aux['white_key'] = f'{b}-' + aux.white_name\n",
    "    keyed = pd.concat([keyed, aux.reindex(columns=keyed.columns)])\n",
    "\n",
    "black_wins = pd.pivot_table(keyed, 'black_wins', 'black_key', 'white_key', aggfunc='sum').fillna(0)\n",
    "white_wins = pd.pivot_table(keyed, 'white_wins', 'black_key', 'white_key', aggfunc='sum').fillna(0)\n",
    "\n",
    "wins = black_wins + white_wins.T\n",
    "games = black_wins + white_wins + black_wins.T + white_wins.T\n",
    "\n",
    "targets = set(keyed.black_key.values) | set(keyed.white_key.values)\n",
    "targets = [t for t in targets if 'mohex' not in t]\n",
    "\n",
    "with aljpy.parallel(solve) as p:\n",
    "    solns = p.wait({t: p(t, games, wins) for t in targets})\n",
    "\n",
    "solns = pd.DataFrame.from_dict(solns, orient='index')\n",
    "\n",
    "aux = keyed_samples()\n",
    "joint = pd.concat([aux, solns], 1)"
   ]
  },
  {
   "cell_type": "code",
   "execution_count": null,
   "metadata": {},
   "outputs": [],
   "source": [
    "from grid.plots import *\n",
    "joint['g'] = joint.index.str[:-2]\n",
    "joint['flops'] = flops(joint)\n",
    "joint['params'] = params(joint)\n",
    "\n",
    "(ggplot(data=joint[joint.index.str[-2] != '0'])\n",
    "    + geom_point(aes(x='flops', y='μ', group='g', color='boardsize'))\n",
    "    + scale_x_continuous(trans='log10')\n",
    "    + scale_color_continuous(trans='log10')\n",
    "    + labs(title='slope is about the same in every board size')\n",
    "    + mpl_theme(12, 8)\n",
    "    + poster_sizes())"
   ]
  },
  {
   "cell_type": "code",
   "execution_count": null,
   "metadata": {},
   "outputs": [],
   "source": [
    "joint"
   ]
  },
  {
   "cell_type": "code",
   "execution_count": null,
   "metadata": {},
   "outputs": [],
   "source": [
    "joint = pd.concat([aux, solns], 1)"
   ]
  }
 ],
 "metadata": {
  "kernelspec": {
   "display_name": "Python 3",
   "language": "python",
   "name": "python3"
  },
  "language_info": {
   "codemirror_mode": {
    "name": "ipython",
    "version": 3
   },
   "file_extension": ".py",
   "mimetype": "text/x-python",
   "name": "python",
   "nbconvert_exporter": "python",
   "pygments_lexer": "ipython3"
  }
 },
 "nbformat": 4,
 "nbformat_minor": 4
}
