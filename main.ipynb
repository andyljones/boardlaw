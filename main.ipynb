{
 "cells": [
  {
   "cell_type": "code",
   "execution_count": null,
   "metadata": {},
   "outputs": [],
   "source": [
    "from grid.refine import *\n",
    "from pathlib import Path\n",
    "\n",
    "globs = (\n",
    "    list(Path('output/refine').glob('*/output/pavlov/*')) +\n",
    "    list(Path('output/refine-0').glob('*')) + \n",
    "    list(Path('output/refine-1').glob('*')))\n",
    "for p in globs:\n",
    "    run = p.name\n",
    "    database.assure(run)\n",
    "    with database.update(run) as l:\n",
    "        source = json.loads((p / 'arena.json').read_text())\n",
    "        for r in source:\n",
    "            l.append(r)"
   ]
  },
  {
   "cell_type": "code",
   "execution_count": null,
   "metadata": {},
   "outputs": [],
   "source": [
    "database.pandas(run)"
   ]
  },
  {
   "cell_type": "code",
   "execution_count": null,
   "metadata": {},
   "outputs": [],
   "source": []
  },
  {
   "cell_type": "code",
   "execution_count": null,
   "metadata": {},
   "outputs": [],
   "source": []
  }
 ],
 "metadata": {
  "kernelspec": {
   "display_name": "Python 3",
   "language": "python",
   "name": "python3"
  },
  "language_info": {
   "codemirror_mode": {
    "name": "ipython",
    "version": 3
   },
   "file_extension": ".py",
   "mimetype": "text/x-python",
   "name": "python",
   "nbconvert_exporter": "python",
   "pygments_lexer": "ipython3"
  }
 },
 "nbformat": 4,
 "nbformat_minor": 4
}
