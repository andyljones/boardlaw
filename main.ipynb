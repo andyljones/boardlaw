{
 "cells": [
  {
   "cell_type": "code",
   "execution_count": null,
   "metadata": {},
   "outputs": [],
   "source": [
    "from grid.eval import *"
   ]
  },
  {
   "cell_type": "code",
   "execution_count": null,
   "metadata": {},
   "outputs": [],
   "source": [
    "boardsize = 5\n",
    "n_workers = 9\n",
    "\n",
    "snaps = snapshots(boardsize)\n",
    "snaps = pd.concat([snaps, parameters(snaps)], 1)\n",
    "snaps['nickname'] = snaps.run.str.extract('.* (.*)', expand=False) + '.' + snaps.idx.astype(str)\n",
    "snaps['params'] = params(snaps)\n",
    "snaps = snaps.set_index('nickname')\n",
    "\n",
    "games, wins = load(boardsize, snaps.index)\n",
    "\n",
    "solver, soln, σ = None, None, None\n",
    "futures = {}\n",
    "with ProcessPoolExecutor(n_workers, initializer=init) as pool:\n",
    "    while True:\n",
    "        if solver is None:\n",
    "            log.info('Submitting solve task')\n",
    "            solver = pool.submit(activelo.solve, games, wins, soln=soln)\n",
    "        elif solver.done():\n",
    "            try:\n",
    "                soln = solver.result()\n",
    "                μ, σ = arena.analysis.difference(soln, soln.μ.idxmin())\n",
    "                    \n",
    "                log.info(f'coverage: {(soln.μ != 0).mean():.0%}')\n",
    "                log.info(f'μ_max: {μ.max():.1f}')\n",
    "                log.info(f'σ_ms: {σ.pow(2).mean()**.5:.2f}')\n",
    "            except InManifoldError:\n",
    "                soln = None\n",
    "                log.warning('Got a manifold error; throwing soln out')\n",
    "            finally:\n",
    "                solver = None\n",
    "\n",
    "        for key, future in list(futures.items()):\n",
    "            if future.done():\n",
    "                results = future.result()\n",
    "                games, wins = update(games, wins, results)\n",
    "                del futures[key]\n",
    "                save(boardsize, games, wins)\n",
    "                \n",
    "                log.info(f'saturation: {games.sum().sum()/N_ENVS/games.shape[0]:.0%}')\n",
    "\n",
    "        while len(futures) < n_workers - 1:\n",
    "            if soln is None:\n",
    "                sugg = tuple(np.random.choice(games.index, (2,)))\n",
    "            else:\n",
    "                sugg = suggest(soln)\n",
    "            \n",
    "            log.info('Submitting eval task')\n",
    "            futures[sugg] = pool.submit(evaluate, *sugg)\n",
    "        \n",
    "snaps['μ'], snaps['σ'] = arena.analysis.difference(soln, soln.μ.idxmin())"
   ]
  },
  {
   "cell_type": "code",
   "execution_count": null,
   "metadata": {},
   "outputs": [],
   "source": [
    "%timeit -n1 -r1 activelo.solve(games, wins, soln=soln)"
   ]
  },
  {
   "cell_type": "code",
   "execution_count": null,
   "metadata": {},
   "outputs": [],
   "source": [
    "snaps['μ'], snaps['σ'] = arena.analysis.difference(soln, soln.μ.idxmax())"
   ]
  },
  {
   "cell_type": "code",
   "execution_count": null,
   "metadata": {},
   "outputs": [],
   "source": [
    "plot(snaps)"
   ]
  },
  {
   "cell_type": "code",
   "execution_count": null,
   "metadata": {},
   "outputs": [],
   "source": [
    "snaps_5 = snaps"
   ]
  },
  {
   "cell_type": "code",
   "execution_count": null,
   "metadata": {},
   "outputs": [],
   "source": [
    "imp = activelo.improvement(soln)"
   ]
  },
  {
   "cell_type": "code",
   "execution_count": null,
   "metadata": {},
   "outputs": [],
   "source": [
    "plt.imshow(imp/imp.max())\n",
    "plt.colorbar()"
   ]
  },
  {
   "cell_type": "code",
   "execution_count": null,
   "metadata": {},
   "outputs": [],
   "source": [
    "μ.plot()"
   ]
  }
 ],
 "metadata": {
  "kernelspec": {
   "display_name": "Python 3",
   "language": "python",
   "name": "python3"
  },
  "language_info": {
   "codemirror_mode": {
    "name": "ipython",
    "version": 3
   },
   "file_extension": ".py",
   "mimetype": "text/x-python",
   "name": "python",
   "nbconvert_exporter": "python",
   "pygments_lexer": "ipython3"
  }
 },
 "nbformat": 4,
 "nbformat_minor": 4
}
