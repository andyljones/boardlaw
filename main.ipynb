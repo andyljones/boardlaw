{
 "cells": [
  {
   "cell_type": "code",
   "execution_count": null,
   "metadata": {},
   "outputs": [],
   "source": [
    "from analysis.paper import *"
   ]
  },
  {
   "cell_type": "code",
   "execution_count": null,
   "metadata": {},
   "outputs": [],
   "source": [
    "ags = data.load()\n",
    "ags = data.with_times(ags)"
   ]
  },
  {
   "cell_type": "code",
   "execution_count": null,
   "metadata": {},
   "outputs": [],
   "source": [
    "plot_frontiers(ags)"
   ]
  },
  {
   "cell_type": "code",
   "execution_count": null,
   "metadata": {},
   "outputs": [],
   "source": [
    "upload(plot_resid_var, ags)"
   ]
  },
  {
   "cell_type": "code",
   "execution_count": null,
   "metadata": {},
   "outputs": [],
   "source": [
    "#upload(plot_frontiers, ags)\n",
    "upload(plot_resid_var, ags)"
   ]
  },
  {
   "cell_type": "code",
   "execution_count": null,
   "metadata": {},
   "outputs": [],
   "source": [
    "overleaf.table(parameters_table(ags), 'parameters')"
   ]
  },
  {
   "cell_type": "code",
   "execution_count": null,
   "metadata": {},
   "outputs": [],
   "source": [
    "plot_resid_var(ags)"
   ]
  },
  {
   "cell_type": "code",
   "execution_count": null,
   "metadata": {},
   "outputs": [],
   "source": [
    "resid_var"
   ]
  },
  {
   "cell_type": "code",
   "execution_count": null,
   "metadata": {},
   "outputs": [],
   "source": [
    "raw = pd.Series({\n",
    "        '$m_\\text{scale}$': params['scale'][0],\n",
    "        '$c_\\text{scale}$': params['scale'][1],\n",
    "        '$m_\\text{center}$': params['center'][0],\n",
    "        '$c_\\text{center}$': params['center'][1],\n",
    "        '$\\text{height}$': params['height'].item()})\n",
    "(raw\n",
    "        .round(2)\n",
    "        .to_frame().T\n",
    "        .to_latex(index=False, label='parameters', caption='Fitted frontier parameters'))"
   ]
  },
  {
   "cell_type": "code",
   "execution_count": null,
   "metadata": {},
   "outputs": [],
   "source": []
  },
  {
   "cell_type": "code",
   "execution_count": null,
   "metadata": {},
   "outputs": [],
   "source": [
    "d = 600/np.log2(10)\n",
    "1/(1 + 10**(-120/400))"
   ]
  },
  {
   "cell_type": "code",
   "execution_count": null,
   "metadata": {},
   "outputs": [],
   "source": [
    "10**(120/600)"
   ]
  },
  {
   "cell_type": "code",
   "execution_count": null,
   "metadata": {},
   "outputs": [],
   "source": [
    "(ags\n",
    "        .groupby('boardsize')\n",
    "        [['width', 'depth', 'samples', 'train_flops']]\n",
    "        .max()\n",
    "        .assign(train_flops=lambda df: df.train_flops.apply(lambda s: f'{s:.0G}'))\n",
    "        .assign(samples=lambda df: df.samples.apply(lambda s: f'{s:.0G}'))\n",
    "        .rename(columns={'boardsize': 'board size', 'width': 'max neurons', 'depth': 'max layers', 'samples': 'max samples', 'train_flops': 'max flops'})\n",
    "        .reset_index())"
   ]
  }
 ],
 "metadata": {
  "kernelspec": {
   "display_name": "Python 3",
   "language": "python",
   "name": "python3"
  },
  "language_info": {
   "codemirror_mode": {
    "name": "ipython",
    "version": 3
   },
   "file_extension": ".py",
   "mimetype": "text/x-python",
   "name": "python",
   "nbconvert_exporter": "python",
   "pygments_lexer": "ipython3"
  }
 },
 "nbformat": 4,
 "nbformat_minor": 4
}
