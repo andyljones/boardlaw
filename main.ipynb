{
 "cells": [
  {
   "cell_type": "code",
   "execution_count": null,
   "metadata": {},
   "outputs": [],
   "source": [
    "from grid.eval import *"
   ]
  },
  {
   "cell_type": "code",
   "execution_count": null,
   "metadata": {},
   "outputs": [],
   "source": [
    "worlds, agents = worlds_and_agents(3)"
   ]
  },
  {
   "cell_type": "code",
   "execution_count": null,
   "metadata": {},
   "outputs": [],
   "source": [
    "n_agents = len(agents)\n",
    "wins  = pd.DataFrame(np.zeros((n_agents, n_agents)), list(agents), list(agents))\n",
    "games = pd.DataFrame(np.zeros((n_agents, n_agents)), list(agents), list(agents))\n",
    "soln = None"
   ]
  },
  {
   "cell_type": "code",
   "execution_count": null,
   "metadata": {},
   "outputs": [],
   "source": [
    "while True:\n",
    "    soln = activelo.solve(games, wins, soln=soln)\n",
    "    sugg = activelo.suggest(soln)\n",
    "\n",
    "    results = arena.common.evaluate(worlds, {n: agents[n] for n in sugg})\n",
    "    games, wins = update(games, wins, results)\n",
    "\n",
    "    report(soln)"
   ]
  },
  {
   "cell_type": "code",
   "execution_count": null,
   "metadata": {},
   "outputs": [],
   "source": [
    "plt.plot(soln.μ)"
   ]
  },
  {
   "cell_type": "code",
   "execution_count": null,
   "metadata": {},
   "outputs": [],
   "source": [
    "params = {}\n",
    "for idx, row in snapshots(3).iterrows():\n",
    "    s = storage.load_snapshot(row.run, row.idx)\n",
    "    params[idx] = {**runs.info(row.run)['params'], 'samples': s['n_samples'], 'flops': s['n_flops']}\n",
    "params = pd.DataFrame.from_dict(params, orient='index')"
   ]
  },
  {
   "cell_type": "code",
   "execution_count": null,
   "metadata": {},
   "outputs": [],
   "source": [
    "snaps = snapshots(boardsize)\n",
    "snaps = pd.concat([snaps, parameters(snaps)], 1)\n",
    "snaps['μ'], snaps['σ'] = arena.analysis.difference(soln, soln.μ.idxmin())"
   ]
  },
  {
   "cell_type": "code",
   "execution_count": null,
   "metadata": {},
   "outputs": [],
   "source": []
  },
  {
   "cell_type": "code",
   "execution_count": null,
   "metadata": {},
   "outputs": [],
   "source": [
    "snaps['params'] = params(snaps)"
   ]
  },
  {
   "cell_type": "code",
   "execution_count": null,
   "metadata": {},
   "outputs": [],
   "source": [
    "import plotnine as pn\n",
    "(pn.ggplot(data=snaps)\n",
    "    + pn.geom_line(pn.aes(x='flops', y='μ', group='run', color='params'))\n",
    "    + pn.scale_x_continuous(trans='log10'))"
   ]
  }
 ],
 "metadata": {
  "kernelspec": {
   "display_name": "Python 3",
   "language": "python",
   "name": "python3"
  },
  "language_info": {
   "codemirror_mode": {
    "name": "ipython",
    "version": 3
   },
   "file_extension": ".py",
   "mimetype": "text/x-python",
   "name": "python",
   "nbconvert_exporter": "python",
   "pygments_lexer": "ipython3"
  }
 },
 "nbformat": 4,
 "nbformat_minor": 4
}
