{
 "cells": [
  {
   "cell_type": "code",
   "execution_count": null,
   "metadata": {},
   "outputs": [],
   "source": [
    "from grid.eval import *"
   ]
  },
  {
   "cell_type": "code",
   "execution_count": null,
   "metadata": {},
   "outputs": [],
   "source": [
    "was = worlds_and_agents(3)\n",
    "\n",
    "n_agents = len(was.agents)\n",
    "wins  = pd.DataFrame(np.zeros((n_agents, n_agents)), list(was.agents), list(was.agents))\n",
    "games = pd.DataFrame(np.zeros((n_agents, n_agents)), list(was.agents), list(was.agents))\n",
    "\n",
    "soln = activelo.solve(games, wins)\n",
    "sugg = activelo.suggest(soln)"
   ]
  },
  {
   "cell_type": "code",
   "execution_count": null,
   "metadata": {},
   "outputs": [],
   "source": [
    "worlds, agents = worlds_and_agents(3)\n",
    "\n",
    "n_agents = len(agents)\n",
    "wins  = pd.DataFrame(np.zeros((n_agents, n_agents)), list(agents), list(agents))\n",
    "games = pd.DataFrame(np.zeros((n_agents, n_agents)), list(agents), list(agents))\n",
    "\n",
    "soln = activelo.solve(games, wins)\n",
    "sugg = activelo.suggest(soln)\n",
    "\n",
    "results = arena.common.evaluate(worlds, {n: agents[n] for n in sugg})"
   ]
  },
  {
   "cell_type": "code",
   "execution_count": null,
   "metadata": {},
   "outputs": [],
   "source": []
  }
 ],
 "metadata": {
  "kernelspec": {
   "display_name": "Python 3",
   "language": "python",
   "name": "python3"
  },
  "language_info": {
   "codemirror_mode": {
    "name": "ipython",
    "version": 3
   },
   "file_extension": ".py",
   "mimetype": "text/x-python",
   "name": "python",
   "nbconvert_exporter": "python",
   "pygments_lexer": "ipython3"
  }
 },
 "nbformat": 4,
 "nbformat_minor": 4
}
