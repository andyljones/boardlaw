{
 "cells": [
  {
   "cell_type": "code",
   "execution_count": null,
   "metadata": {},
   "outputs": [],
   "source": [
    "from grid.refine import *\n",
    "\n",
    "df = observed_rates()"
   ]
  },
  {
   "cell_type": "code",
   "execution_count": null,
   "metadata": {},
   "outputs": [],
   "source": [
    "df['movetime'] = df.times/df.moves\n",
    "df['flops'] = df.width**2 * df.depth\n",
    "\n",
    "model = smf.ols('np.log2(movetime) ~ C(boardsize) + np.log2(width) + np.log2(depth) + 1', df).fit()"
   ]
  },
  {
   "cell_type": "code",
   "execution_count": null,
   "metadata": {},
   "outputs": [],
   "source": [
    "plt.scatter(np.log2(df.movetime), model.predict(df))"
   ]
  },
  {
   "cell_type": "code",
   "execution_count": null,
   "metadata": {},
   "outputs": [],
   "source": [
    "df.groupby(['boardsize', 'width', 'depth']).movetime.mean().unstack('depth')"
   ]
  },
  {
   "cell_type": "code",
   "execution_count": null,
   "metadata": {},
   "outputs": [],
   "source": [
    "pd.DataFrame.from_dict(runs.pandas().params.dropna().to_dict(), orient='index').query('boardsize == 9 & width == 512 & depth == 32')"
   ]
  },
  {
   "cell_type": "code",
   "execution_count": null,
   "metadata": {},
   "outputs": [],
   "source": [
    "run = '2021-02-08 08-15-16 gentle-swap'\n",
    "worlds = common.worlds(run, 2, device='cuda')\n",
    "agent = common.agent(run, None, device='cuda')\n",
    "arena = mohex.CumulativeArena(worlds)"
   ]
  },
  {
   "cell_type": "code",
   "execution_count": null,
   "metadata": {},
   "outputs": [],
   "source": [
    "soln, results = arena.play(agent)"
   ]
  },
  {
   "cell_type": "code",
   "execution_count": null,
   "metadata": {},
   "outputs": [],
   "source": [
    "(11.37 + 11.72)/(17 + 20)"
   ]
  },
  {
   "cell_type": "code",
   "execution_count": null,
   "metadata": {},
   "outputs": [],
   "source": [
    "df.times.sum()"
   ]
  },
  {
   "cell_type": "code",
   "execution_count": null,
   "metadata": {},
   "outputs": [],
   "source": [
    "from pavlov import storage\n",
    "\n",
    "df = runs.pandas().loc[lambda df: df.description.fillna(\"\").str.startswith(\"main/\")]\n",
    "df = pd.concat([df, pd.DataFrame(df.params.values.tolist(), df.index)], 1)\n",
    "df['n_snapshots'] = df._files.apply(lambda d: len([f for f in d if f.startswith('storage.snapshot')]))\n",
    "df = (df\n",
    "    .reset_index()\n",
    "    .groupby(['boardsize', 'width', 'depth'])\n",
    "    .apply(lambda g: g[g.n_snapshots == g.n_snapshots.max()].iloc[-1])\n",
    "    .set_index('run'))\n",
    "\n",
    "counts = []\n",
    "for run, row in df.iterrows():\n",
    "    counts.append({**row['params'], 'count': len(storage.snapshots(run)) + 1})\n",
    "counts = pd.DataFrame(counts)"
   ]
  },
  {
   "cell_type": "code",
   "execution_count": null,
   "metadata": {},
   "outputs": [],
   "source": [
    "counts.query('width <= 64')['count'].sum()/counts['count'].sum()"
   ]
  },
  {
   "cell_type": "code",
   "execution_count": null,
   "metadata": {},
   "outputs": [],
   "source": [
    "counts"
   ]
  }
 ],
 "metadata": {
  "kernelspec": {
   "display_name": "Python 3",
   "language": "python",
   "name": "python3"
  },
  "language_info": {
   "codemirror_mode": {
    "name": "ipython",
    "version": 3
   },
   "file_extension": ".py",
   "mimetype": "text/x-python",
   "name": "python",
   "nbconvert_exporter": "python",
   "pygments_lexer": "ipython3"
  }
 },
 "nbformat": 4,
 "nbformat_minor": 4
}
