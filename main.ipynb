{
 "cells": [
  {
   "cell_type": "code",
   "execution_count": null,
   "metadata": {},
   "outputs": [],
   "source": [
    "from boardlaw.sql import *"
   ]
  },
  {
   "cell_type": "code",
   "execution_count": null,
   "metadata": {},
   "outputs": [],
   "source": [
    "noise = query('''select * from noise_scales''')"
   ]
  },
  {
   "cell_type": "code",
   "execution_count": null,
   "metadata": {},
   "outputs": [],
   "source": [
    "from analysis import data\n",
    "ags = data.load()"
   ]
  },
  {
   "cell_type": "code",
   "execution_count": null,
   "metadata": {},
   "outputs": [],
   "source": [
    "import plotnine as pn\n",
    "from analysis import plot\n",
    "\n",
    "noise = query('''select * from noise_scales''')\n",
    "df = pd.merge(ags, noise, left_on='snap_id', right_on='id').query('test_nodes == 64')\n",
    "\n",
    "Bb = df.batches*df.batch_size \n",
    "Bs = df.batch_size\n",
    "\n",
    "Gb = df.mean_sq\n",
    "Gs = df.sq_mean\n",
    "\n",
    "G2 = 1/(Bb - Bs)*(Bb*Gb - Bs*Gs)\n",
    "S = 1/(1/Bs - 1/Bb)*(Gs - Gb)\n",
    "\n",
    "df['low_bias'] = S/G2\n",
    "df['low_var'] = df.batch_size*df.variance/df.mean_sq\n",
    "\n",
    "(pn.ggplot(df[df.low_var > 0])\n",
    "     + pn.geom_point(pn.aes(x='data.ELO*elo', y='low_var', color='factor(boardsize)'), shape='.', size=.25, show_legend=False)\n",
    "#     + pn.facet_wrap('boardsize', ncol=2, labeller='label_both')\n",
    "     + plot.IEEE()\n",
    "     + pn.labs(x='Elo v. perfect play', y='noise scale')\n",
    "     + pn.scale_y_continuous(trans='log10')\n",
    "     + pn.theme(figure_size=(4, 4)))"
   ]
  },
  {
   "cell_type": "code",
   "execution_count": null,
   "metadata": {},
   "outputs": [],
   "source": [
    "pn.facet_wrap?"
   ]
  },
  {
   "cell_type": "code",
   "execution_count": null,
   "metadata": {},
   "outputs": [],
   "source": [
    "df.query('boardsize == 6')"
   ]
  },
  {
   "cell_type": "code",
   "execution_count": null,
   "metadata": {},
   "outputs": [],
   "source": []
  }
 ],
 "metadata": {
  "kernelspec": {
   "display_name": "Python 3",
   "language": "python",
   "name": "python3"
  },
  "language_info": {
   "codemirror_mode": {
    "name": "ipython",
    "version": 3
   },
   "file_extension": ".py",
   "mimetype": "text/x-python",
   "name": "python",
   "nbconvert_exporter": "python",
   "pygments_lexer": "ipython3"
  }
 },
 "nbformat": 4,
 "nbformat_minor": 4
}
