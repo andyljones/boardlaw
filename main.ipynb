{
 "cells": [
  {
   "cell_type": "code",
   "execution_count": null,
   "metadata": {},
   "outputs": [],
   "source": [
    "from analysis.paper import *"
   ]
  },
  {
   "cell_type": "code",
   "execution_count": null,
   "metadata": {},
   "outputs": [],
   "source": [
    "ags = data.load()\n",
    "ags = data.with_times(ags)"
   ]
  },
  {
   "cell_type": "code",
   "execution_count": null,
   "metadata": {},
   "outputs": [],
   "source": [
    "upload(plot_flops_curves, ags)"
   ]
  },
  {
   "cell_type": "code",
   "execution_count": null,
   "metadata": {},
   "outputs": [],
   "source": [
    "plot_frontiers(ags)"
   ]
  },
  {
   "cell_type": "code",
   "execution_count": null,
   "metadata": {},
   "outputs": [],
   "source": [
    "overleaf.table(max_sizes_table(ags), 'maxsizes')"
   ]
  },
  {
   "cell_type": "code",
   "execution_count": null,
   "metadata": {},
   "outputs": [],
   "source": [
    "(ags\n",
    "        .groupby('boardsize')\n",
    "        [['width', 'depth', 'samples', 'train_flops']]\n",
    "        .max()\n",
    "        .assign(train_flops=lambda df: df.train_flops.apply(lambda s: f'{s:.0G}'))\n",
    "        .assign(samples=lambda df: df.samples.apply(lambda s: f'{s:.0G}'))\n",
    "        .rename(columns={'boardsize': 'board size', 'width': 'max neurons', 'depth': 'max layers', 'samples': 'max samples', 'train_flops': 'max flops'})\n",
    "        .reset_index())"
   ]
  },
  {
   "cell_type": "code",
   "execution_count": null,
   "metadata": {},
   "outputs": [],
   "source": [
    "overleaf.table(boardsize_hyperparams_table(ags), 'boardsize_hyperparams')"
   ]
  },
  {
   "cell_type": "code",
   "execution_count": null,
   "metadata": {},
   "outputs": [],
   "source": [
    "df = ags.query('test_nodes == 64').copy()\n",
    "df['g'] = ags.run\n",
    "labels = df.sort_values('train_flops').groupby('boardsize').first().reset_index()\n",
    "\n",
    "(pn.ggplot(df, pn.aes(x='train_flops', color='factor(boardsize)', group='g'))\n",
    "    + pn.geom_line(pn.aes(y='400/np.log(10)*elo'), size=.25, show_legend=False)\n",
    "    + pn.geom_point(pn.aes(y='400/np.log(10)*elo'), size=1/16, show_legend=False, shape='.')\n",
    "    + pn.geom_text(pn.aes(y='400/np.log(10)*elo', label='boardsize'), data=labels, show_legend=False, size=6, nudge_x=-.25, nudge_y=-15)\n",
    "    + pn.labs(\n",
    "        x='FLOPS', \n",
    "        y='Elo v. perfect play')\n",
    "    + pn.scale_color_discrete(l=.4)\n",
    "    + pn.scale_x_continuous(trans='log10')\n",
    "    + pn.coord_cartesian(None, (None, 0))\n",
    "    + plot.IEEE())"
   ]
  },
  {
   "cell_type": "code",
   "execution_count": null,
   "metadata": {},
   "outputs": [],
   "source": [
    "labels"
   ]
  }
 ],
 "metadata": {
  "kernelspec": {
   "display_name": "Python 3",
   "language": "python",
   "name": "python3"
  },
  "language_info": {
   "codemirror_mode": {
    "name": "ipython",
    "version": 3
   },
   "file_extension": ".py",
   "mimetype": "text/x-python",
   "name": "python",
   "nbconvert_exporter": "python",
   "pygments_lexer": "ipython3"
  }
 },
 "nbformat": 4,
 "nbformat_minor": 4
}
