{
 "cells": [
  {
   "cell_type": "code",
   "execution_count": null,
   "metadata": {},
   "outputs": [],
   "source": [
    "from grid.eval import *"
   ]
  },
  {
   "cell_type": "code",
   "execution_count": null,
   "metadata": {},
   "outputs": [],
   "source": [
    "boardsize = 3\n",
    "n_workers = 8\n",
    "\n",
    "snaps = snapshots(boardsize)\n",
    "snaps = pd.concat([snaps, parameters(snaps)], 1)\n",
    "snaps['nickname'] = snaps.run.str.extract('.* (.*)', expand=False) + '.' + snaps.idx.astype(str)\n",
    "snaps['params'] = params(snaps)\n",
    "snaps = snaps.set_index('nickname')\n",
    "\n",
    "n_agents = len(snaps)\n",
    "wins  = pd.DataFrame(np.zeros((n_agents, n_agents)), snaps.index, snaps.index)\n",
    "games = pd.DataFrame(np.zeros((n_agents, n_agents)), snaps.index, snaps.index)\n",
    "\n",
    "soln = None\n",
    "futures = {}\n",
    "with ProcessPoolExecutor(n_workers) as pool:\n",
    "    while True:\n",
    "        if len(futures) < n_workers:\n",
    "            try:\n",
    "                ggames, gwins = guess(games, wins, futures)\n",
    "                gsoln = activelo.solve(ggames, gwins, soln=soln)\n",
    "                sugg = activelo.suggest(gsoln)\n",
    "            except InManifoldError:\n",
    "                soln = None\n",
    "                sugg = tuple(np.random.choice(snaps.index, (2,)))\n",
    "                log.warning('Got a manifold error; making a random suggestion')\n",
    "\n",
    "            futures[sugg] = pool.submit(evaluate, *sugg)\n",
    "\n",
    "        for key, future in list(futures.items()):\n",
    "            if future.done():\n",
    "                results = future.result()\n",
    "                games, wins = update(games, wins, results)\n",
    "                del futures[key]\n",
    "    \n",
    "        soln = activelo.solve(games, wins, soln=soln)\n",
    "        report(soln, games)\n",
    "        _, σ = arena.analysis.difference(soln, soln.μ.idxmin())\n",
    "        if σ.pow(2).mean()**.5 < .1:\n",
    "            break\n",
    "        \n",
    "snaps['μ'], snaps['σ'] = arena.analysis.difference(soln, soln.μ.idxmin())\n"
   ]
  },
  {
   "cell_type": "code",
   "execution_count": null,
   "metadata": {},
   "outputs": [],
   "source": [
    "%debug"
   ]
  }
 ],
 "metadata": {
  "kernelspec": {
   "display_name": "Python 3",
   "language": "python",
   "name": "python3"
  }
 },
 "nbformat": 4,
 "nbformat_minor": 4
}
