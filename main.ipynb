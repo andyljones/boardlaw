{
 "cells": [
  {
   "cell_type": "code",
   "execution_count": 3,
   "metadata": {},
   "outputs": [],
   "source": [
    "from boardlaw.sql import *"
   ]
  },
  {
   "cell_type": "code",
   "execution_count": 6,
   "metadata": {},
   "outputs": [
    {
     "name": "stdout",
     "output_type": "stream",
     "text": [
      "dnload _lock                                                        \n",
      "dnload _info.json                                                   \n",
      "dnload logs.1.txt                                                   \n",
      "dnload logs.0.txt                                                   \n",
      "dnload stats.corr.penultimate.0.npr                                \n",
      "dnload stats.corr.resid-var.0.npr                                  \n",
      "dnload stats.corr.terminal.0.npr                                   \n",
      "dnload archive.tar.gz                                              \n",
      "dnload stats.count.chunks.0.npr                                    \n",
      "dnload stats.count.samples.0.npr                                   \n",
      "dnload stats.count.inputs.0.npr                                     \n",
      "dnload stats.count.sims.0.npr                                       \n",
      "dnload stats.count.learner-steps.0.npr                              \n",
      "dnload stats.elo-mohex.0.npr                                        \n",
      "dnload stats.count.traj.0.npr                                       \n",
      "dnload stats.gpu-0.compute.0.npr                                    \n",
      "dnload stats.gpu-0.access.0.npr                                     \n",
      "dnload stats.gpu-0.fan.0.npr                                        \n",
      "dnload stats.gpu-0.temp.0.npr                                       \n",
      "dnload stats.gpu-memory-0.alloc.0.npr                               \n",
      "dnload stats.gpu-memory-0.gross.0.npr                               \n",
      "dnload stats.gpu-memory-0.reserve.0.npr                             \n",
      "dnload stats.gpu-0.power.0.npr                                      \n",
      "dnload stats.grad.norm.0.npr                                        \n",
      "dnload stats.grad.max.0.npr                                         \n",
      "dnload stats.kl-div.prior.0.npr                                     \n",
      "dnload stats.kl-div.behaviour.0.npr                                 \n",
      "dnload stats.loss.policy.0.npr                                      \n",
      "dnload stats.loss.value.0.npr                                       \n",
      "dnload stats.noise-scale.0.npr                                      \n",
      "dnload stats.p.outputs.max.0.npr                                    \n",
      "dnload stats.mcts-n-leaves.0.npr                                    \n",
      "dnload stats.grad.std.0.npr                                         \n",
      "dnload stats.p.outputs.std.0.npr                                    \n",
      "dnload stats.p.target.max.0.npr                                     \n",
      "dnload stats.p.target.mean.0.npr                                    \n",
      "dnload stats.p.outputs.mean.0.npr                                   \n",
      "dnload stats.p.target.std.0.npr                                     \n",
      "dnload stats.rel-entropy.targets.0.npr                              \n",
      "dnload stats.policy-conc.0.npr                                      \n",
      "dnload stats.sample-rate.actor.0.npr                                \n",
      "dnload stats.sim-rate.0.npr                                         \n",
      "dnload stats.sample-rate.learner.0.npr                              \n",
      "dnload stats.rel-entropy.policy.0.npr                               \n",
      "dnload stats.step-rate.learner.0.npr                                \n",
      "dnload stats.step.max.0.npr                                         \n",
      "dnload stats.step.std.0.npr                                         \n",
      "dnload stats.step-rate.chunks.0.npr                                 \n",
      "dnload stats.step-rate.inputs.0.npr                                 \n",
      "dnload stats.v.outputs.max.0.npr                                    \n",
      "dnload stats.traj-length.0.npr                                      \n",
      "dnload stats.v.outputs.mean.0.npr                                   \n",
      "dnload stats.v.outputs.std.0.npr                                    \n",
      "dnload stats.v.target.std.0.npr                                     \n",
      "dnload stats.v.target.max.0.npr                                     \n",
      "dnload stats.wins.seat-0.0.npr                                      \n",
      "dnload stats.v.target.mean.0.npr                                    \n",
      "dnload stats.wins.seat-1.0.npr                                      \n",
      "dnload storage.named.model.pkl                                       \n",
      "dnload storage.snapshot.10.pkl                                        \n",
      "dnload storage.latest.pkl                                             \n",
      "dnload storage.snapshot.0.pkl                                         \n",
      "dnload storage.snapshot.11.pkl                                        \n",
      "dnload storage.snapshot.12.pkl                                        \n",
      "dnload storage.snapshot.1.pkl                                         \n",
      "dnload storage.snapshot.13.pkl                                        \n",
      "dnload storage.snapshot.15.pkl                                        \n",
      "dnload storage.snapshot.14.pkl                                        \n",
      "dnload storage.snapshot.16.pkl                                        \n",
      "dnload storage.snapshot.17.pkl                                        \n",
      "dnload storage.snapshot.19.pkl                                        \n",
      "dnload storage.snapshot.20.pkl                                        \n",
      "dnload storage.snapshot.2.pkl                                         \n",
      "dnload storage.snapshot.4.pkl                                         \n",
      "dnload storage.snapshot.3.pkl                                         \n",
      "dnload storage.snapshot.5.pkl                                         \n",
      "dnload storage.snapshot.6.pkl                                         \n",
      "dnload storage.snapshot.8.pkl                                         \n",
      "dnload storage.snapshot.9.pkl                                          \n",
      "dnload storage.snapshot.7.pkl                                          \n",
      "dnload storage.snapshot.18.pkl                                         \n",
      "                                                                       \r"
     ]
    }
   ],
   "source": [
    "from boardlaw import backup\n",
    "import sys\n",
    "import time\n",
    "\n",
    "run = '2021-03-26 15-30-17 harsh-wait'\n",
    "dest = 'local_storage'\n",
    "\n",
    "bucket = 'boardlaw'\n",
    "api = backup.api(bucket)\n",
    "\n",
    "syncer = b2.Synchronizer(4)\n",
    "with b2.SyncReport(sys.stdout, False) as reporter:\n",
    "    syncer.sync_folders(\n",
    "        source_folder=b2.parse_sync_folder(f'b2://boardlaw/output/pavlov/{run}', api),\n",
    "        dest_folder=b2.parse_sync_folder(f'{run}', api),\n",
    "        now_millis=int(round(time.time() * 1000)),\n",
    "        reporter=reporter)"
   ]
  },
  {
   "cell_type": "code",
   "execution_count": null,
   "metadata": {},
   "outputs": [],
   "source": [
    "mk"
   ]
  }
 ],
 "metadata": {
  "kernelspec": {
   "display_name": "Python 3",
   "language": "python",
   "name": "python3"
  },
  "language_info": {
   "codemirror_mode": {
    "name": "ipython",
    "version": 3
   },
   "file_extension": ".py",
   "mimetype": "text/x-python",
   "name": "python",
   "nbconvert_exporter": "python",
   "pygments_lexer": "ipython3",
   "version": "3.8.10"
  }
 },
 "nbformat": 4,
 "nbformat_minor": 4
}
