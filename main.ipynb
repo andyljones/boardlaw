{
 "cells": [
  {
   "cell_type": "code",
   "execution_count": null,
   "metadata": {},
   "outputs": [],
   "source": [
    "from analysis.paper import *\n",
    "from boardlaw import sql, elos"
   ]
  },
  {
   "cell_type": "code",
   "execution_count": null,
   "metadata": {},
   "outputs": [],
   "source": [
    "ags = sql.agent_query()\n",
    "\n",
    "es = []\n",
    "es.append(data.trial_elos(7))\n",
    "es = pd.concat(es)\n",
    "ags = ags.join(es, how='inner')\n",
    "\n",
    "ags['test_flops'] = ags.test_nodes*(ags.train_flops/ags.samples)\n",
    "ags['params'] = ags.width**2 * ags.depth"
   ]
  },
  {
   "cell_type": "code",
   "execution_count": null,
   "metadata": {},
   "outputs": [],
   "source": [
    "(pn.ggplot(ags.query('test_nodes == 1 '), pn.aes(x='train_flops', y='ELO*elo', color='params', group='run'))\n",
    "        + pn.geom_point(size=.25, show_legend=False)\n",
    "        + pn.geom_line(size=.5, show_legend=False)\n",
    "        + pn.scale_x_continuous(trans='log10')\n",
    "        + pn.scale_color_cmap('viridis', trans='log10')\n",
    "        + pn.labs(\n",
    "            x='Test-time FLOPS',\n",
    "            y='Elo v. perfect play')\n",
    "        + plot.IEEE())"
   ]
  },
  {
   "cell_type": "code",
   "execution_count": null,
   "metadata": {},
   "outputs": [],
   "source": [
    "boardsize = 7\n",
    "ags = sql.agent_query().query('test_nodes == 64 & boardsize == 7')\n",
    "\n",
    "trials = sql.trial_query(boardsize, 'bee/%')\n",
    "trials = trials[trials.black_agent.isin(ags.index) & trials.white_agent.isin(ags.index)]\n",
    "ws, gs = elos.symmetrize(trials)\n",
    "\n",
    "ags['elo'] = elos.solve(ws, gs)"
   ]
  },
  {
   "cell_type": "code",
   "execution_count": null,
   "metadata": {},
   "outputs": [],
   "source": [
    "mhx = sql.mohex_trial_query(boardsize)\n",
    "black_wins = mhx[['black_agent', 'black_wins', 'white_wins']].dropna().set_index('black_agent')[['black_wins', 'white_wins']]\n",
    "white_wins = mhx[['white_agent', 'black_wins', 'white_wins']].dropna().set_index('white_agent')[['black_wins', 'white_wins']]\n",
    "black_wins = black_wins.groupby(black_wins.index).sum()\n",
    "white_wins = white_wins.groupby(white_wins.index).sum()\n",
    "\n",
    "rate = (black_wins.black_wins + white_wins.white_wins)/(black_wins.sum(1) + white_wins.sum(1))\n",
    "rate.index = rate.index.astype(int)\n",
    "\n",
    "mhx_elo = np.log(rate) - np.log(1 - rate)"
   ]
  },
  {
   "cell_type": "code",
   "execution_count": null,
   "metadata": {},
   "outputs": [],
   "source": [
    "pd.concat({'old': ags.elo, 'new': mhx_elo}, 1).plot.scatter('old', 'new')"
   ]
  },
  {
   "cell_type": "code",
   "execution_count": null,
   "metadata": {},
   "outputs": [],
   "source": [
    "mhx_elo.sort_values()"
   ]
  }
 ],
 "metadata": {
  "kernelspec": {
   "display_name": "Python 3",
   "language": "python",
   "name": "python3"
  },
  "language_info": {
   "codemirror_mode": {
    "name": "ipython",
    "version": 3
   },
   "file_extension": ".py",
   "mimetype": "text/x-python",
   "name": "python",
   "nbconvert_exporter": "python",
   "pygments_lexer": "ipython3"
  }
 },
 "nbformat": 4,
 "nbformat_minor": 4
}
