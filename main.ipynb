{
 "cells": [
  {
   "cell_type": "code",
   "execution_count": null,
   "metadata": {},
   "outputs": [],
   "source": [
    "from boardlaw.arena.multi import *\n"
   ]
  },
  {
   "cell_type": "code",
   "execution_count": null,
   "metadata": {},
   "outputs": [],
   "source": [
    "evaluate_nodes(7)\n"
   ]
  },
  {
   "cell_type": "code",
   "execution_count": null,
   "metadata": {},
   "outputs": [],
   "source": [
    "n_games_per = 512\n",
    "games[agents.snap_id.values[:, None] != agents.snap_id.values[None, :]] = n_games_per"
   ]
  },
  {
   "cell_type": "code",
   "execution_count": null,
   "metadata": {},
   "outputs": [],
   "source": [
    "sql.execute('''\n",
    "            create view agents_details as\n",
    "            select \n",
    "                agents.id, agents.nodes as test_nodes, \n",
    "                snaps.id as snap_id, snaps.samples, snaps.flops as train_flops, snaps.idx, \n",
    "                runs.run, runs.description, runs.boardsize, runs.width, runs.depth, runs.nodes as train_nodes\n",
    "            from agents\n",
    "                inner join snaps on (agents.snap == snaps.id)\n",
    "                inner join runs on (snaps.run == runs.run)''')"
   ]
  },
  {
   "cell_type": "code",
   "execution_count": null,
   "metadata": {},
   "outputs": [],
   "source": [
    "plt.imshow(games)"
   ]
  }
 ],
 "metadata": {
  "kernelspec": {
   "display_name": "Python 3",
   "language": "python",
   "name": "python3"
  },
  "language_info": {
   "codemirror_mode": {
    "name": "ipython",
    "version": 3
   },
   "file_extension": ".py",
   "mimetype": "text/x-python",
   "name": "python",
   "nbconvert_exporter": "python",
   "pygments_lexer": "ipython3"
  }
 },
 "nbformat": 4,
 "nbformat_minor": 4
}
