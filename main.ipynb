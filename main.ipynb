{
 "cells": [
  {
   "cell_type": "code",
   "execution_count": null,
   "metadata": {},
   "outputs": [],
   "source": [
    "from grid.refine import *\n",
    "\n",
    "df = observed_rates()"
   ]
  },
  {
   "cell_type": "code",
   "execution_count": null,
   "metadata": {},
   "outputs": [],
   "source": [
    "df.query('width > 64')"
   ]
  },
  {
   "cell_type": "code",
   "execution_count": null,
   "metadata": {},
   "outputs": [],
   "source": [
    "df = data.load()\n",
    "\n",
    "interp = df.interpolate().where(df.bfill().notnull())\n",
    "stacked = interp.stack([1, 2, 3]).reset_index().dropna()\n",
    "stacked['flops'] = flops(stacked)\n",
    "\n",
    "best = stacked.groupby(['_time', 'boardsize']).elo.idxmax()\n",
    "best = stacked.loc[best]\n",
    "\n",
    "index = 10**np.linspace(0, np.log10(stacked.flops.max()), 1001)\n",
    "regular = pd.pivot_table(stacked, 'elo', ('flops',), ('boardsize', 'width', 'depth')).ffill().reindex(index, method='nearest')\n",
    "frontier = regular.expanding().max().groupby(axis=1, level=0).max().div(data.min_elos(), axis=1).mul(-1).add(1)\n",
    "\n",
    "with plt.style.context('seaborn-poster'):\n",
    "    ax = (frontier > .95).drop(11, axis=1).idxmax().plot(logy=True, marker='o', linestyle='--', grid=True)\n",
    "    ax.set_ylabel('training FLOPS')\n",
    "    ax.set_xlabel('boardsize')\n",
    "    ax.set_title('FLOPS needed to hit 95% of perfect play is roughly linear')"
   ]
  }
 ],
 "metadata": {
  "kernelspec": {
   "display_name": "Python 3",
   "language": "python",
   "name": "python3"
  },
  "language_info": {
   "codemirror_mode": {
    "name": "ipython",
    "version": 3
   },
   "file_extension": ".py",
   "mimetype": "text/x-python",
   "name": "python",
   "nbconvert_exporter": "python",
   "pygments_lexer": "ipython3"
  }
 },
 "nbformat": 4,
 "nbformat_minor": 4
}
