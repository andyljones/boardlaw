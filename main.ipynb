{
 "cells": [
  {
   "cell_type": "code",
   "execution_count": null,
   "metadata": {},
   "outputs": [],
   "source": [
    "from grid.eval import *"
   ]
  },
  {
   "cell_type": "code",
   "execution_count": null,
   "metadata": {},
   "outputs": [],
   "source": [
    "boardsize = 5\n",
    "n_workers = 4\n",
    "\n",
    "snaps = snapshots(boardsize)\n",
    "snaps = pd.concat([snaps, parameters(snaps)], 1)\n",
    "snaps['nickname'] = snaps.run.str.extract('.* (.*)', expand=False) + '.' + snaps.idx.astype(str)\n",
    "snaps['params'] = params(snaps)\n",
    "snaps = snaps.set_index('nickname')\n",
    "\n",
    "games, wins = load(boardsize, snaps.index)\n",
    "\n",
    "soln = None\n",
    "futures = {}\n",
    "solver = None\n",
    "with ProcessPoolExecutor(n_workers, initializer=init) as pool:\n",
    "    while True:\n",
    "        if solver is None:\n",
    "            log.info('Submitting solve taask')\n",
    "            solver = pool.submit(activelo.solve, games, wins, soln=soln)\n",
    "        elif solver.done():\n",
    "            try:\n",
    "                log.info('Got solve task')\n",
    "                soln = solver.result()\n",
    "            except InManifoldError:\n",
    "                soln = None\n",
    "                log.warning('Got a manifold error; throwing soln out')\n",
    "            finally:\n",
    "                solver = None\n",
    "\n",
    "        for key, future in list(futures.items()):\n",
    "            if future.done():\n",
    "                log.info('Got eval task result')\n",
    "                results = future.result()\n",
    "                games, wins = update(games, wins, results)\n",
    "                del futures[key]\n",
    "                save(boardsize, games, wins)\n",
    "\n",
    "        while len(futures) < n_workers - 1:\n",
    "            if soln is None:\n",
    "                sugg = tuple(np.random.choice(games.index, (2,)))\n",
    "            else:\n",
    "                sugg = suggest(soln)\n",
    "            \n",
    "            log.info('Submitting eval task')\n",
    "            futures[sugg] = pool.submit(evaluate, *sugg)\n",
    "    \n",
    "        if soln is not None:\n",
    "            report(soln, games, futures)\n",
    "            _, σ = arena.analysis.difference(soln, soln.μ.idxmin())\n",
    "            if σ.pow(2).mean()**.5 < .01:\n",
    "                break\n",
    "        \n",
    "snaps['μ'], snaps['σ'] = arena.analysis.difference(soln, soln.μ.idxmin())"
   ]
  },
  {
   "cell_type": "code",
   "execution_count": null,
   "metadata": {},
   "outputs": [],
   "source": []
  },
  {
   "cell_type": "code",
   "execution_count": null,
   "metadata": {},
   "outputs": [],
   "source": [
    "%timeit -n1 -r1 activelo.solve(games, wins, soln=soln)"
   ]
  },
  {
   "cell_type": "code",
   "execution_count": null,
   "metadata": {},
   "outputs": [],
   "source": [
    "snaps['μ'], snaps['σ'] = arena.analysis.difference(soln, soln.μ.idxmax())"
   ]
  },
  {
   "cell_type": "code",
   "execution_count": null,
   "metadata": {},
   "outputs": [],
   "source": [
    "plot(snaps)"
   ]
  }
 ],
 "metadata": {
  "kernelspec": {
   "display_name": "Python 3",
   "language": "python",
   "name": "python3"
  },
  "language_info": {
   "codemirror_mode": {
    "name": "ipython",
    "version": 3
   },
   "file_extension": ".py",
   "mimetype": "text/x-python",
   "name": "python",
   "nbconvert_exporter": "python",
   "pygments_lexer": "ipython3"
  }
 },
 "nbformat": 4,
 "nbformat_minor": 4
}
