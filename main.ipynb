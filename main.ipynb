{
 "cells": [
  {
   "cell_type": "code",
   "execution_count": null,
   "metadata": {},
   "outputs": [],
   "source": [
    "from boardlaw.sql import *"
   ]
  },
  {
   "cell_type": "code",
   "execution_count": null,
   "metadata": {},
   "outputs": [],
   "source": []
  },
  {
   "cell_type": "code",
   "execution_count": null,
   "metadata": {},
   "outputs": [],
   "source": [
    "from analysis import data\n",
    "ags = data.load()"
   ]
  },
  {
   "cell_type": "code",
   "execution_count": null,
   "metadata": {},
   "outputs": [],
   "source": []
  },
  {
   "cell_type": "code",
   "execution_count": null,
   "metadata": {},
   "outputs": [],
   "source": [
    "import plotnine as pn\n",
    "from analysis import plot\n",
    "\n",
    "noise = query('''select * from noise_scales''')\n",
    "df = pd.merge(noise, ags, left_on='id', right_on='snap_id').query('test_nodes == 64')\n",
    "\n",
    "(pn.ggplot(df)\n",
    "     + pn.geom_point(pn.aes(x='data.ELO*elo', y='np.log10(S/G2)', color='factor(boardsize)'), shape='.', size=.25, show_legend=False)\n",
    "     + pn.facet_wrap('boardsize', ncol=2)\n",
    "    + plot.IEEE()\n",
    "    + pn.theme(figure_size=(4, 4)))"
   ]
  },
  {
   "cell_type": "code",
   "execution_count": null,
   "metadata": {},
   "outputs": [],
   "source": [
    "df"
   ]
  }
 ],
 "metadata": {
  "kernelspec": {
   "display_name": "Python 3",
   "language": "python",
   "name": "python3"
  },
  "language_info": {
   "codemirror_mode": {
    "name": "ipython",
    "version": 3
   },
   "file_extension": ".py",
   "mimetype": "text/x-python",
   "name": "python",
   "nbconvert_exporter": "python",
   "pygments_lexer": "ipython3"
  }
 },
 "nbformat": 4,
 "nbformat_minor": 4
}
