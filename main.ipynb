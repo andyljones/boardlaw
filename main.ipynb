{
 "cells": [
  {
   "cell_type": "code",
   "execution_count": null,
   "metadata": {},
   "outputs": [],
   "source": [
    "from analysis.paper import *\n",
    "from boardlaw import sql, elos"
   ]
  },
  {
   "cell_type": "code",
   "execution_count": null,
   "metadata": {},
   "outputs": [],
   "source": [
    "ags = sql.agent_query()\n",
    "\n",
    "es = []\n",
    "es.append(data.trial_elos(7))\n",
    "es = pd.concat(es)\n",
    "ags = ags.join(es, how='inner')\n",
    "\n",
    "ags['test_flops'] = ags.test_nodes*(ags.train_flops/ags.samples)\n",
    "ags['params'] = ags.width**2 * ags.depth"
   ]
  },
  {
   "cell_type": "code",
   "execution_count": null,
   "metadata": {},
   "outputs": [],
   "source": [
    "(pn.ggplot(ags.sort_values('idx').groupby(['run', 'test_nodes']).last(), pn.aes(x='test_flops', y='ELO*elo', color='params', group='snap_id'))\n",
    "        + pn.geom_point(size=.25, show_legend=False)\n",
    "        + pn.geom_line(size=.5, show_legend=False)\n",
    "        + pn.scale_x_continuous(trans='log10')\n",
    "        + pn.scale_color_cmap('viridis', trans='log10', limits=(ags.params.min(), 10*ags.params.max()))\n",
    "        + pn.coord_cartesian((3.5, None))\n",
    "        + pn.labs(\n",
    "            x='Test-time FLOPS',\n",
    "            y='Elo v. perfect play')\n",
    "        + plot.IEEE())"
   ]
  },
  {
   "cell_type": "code",
   "execution_count": null,
   "metadata": {},
   "outputs": [],
   "source": [
    "ags.query('width >= 256 & elo > -2')"
   ]
  },
  {
   "cell_type": "code",
   "execution_count": null,
   "metadata": {},
   "outputs": [],
   "source": [
    "ags.query('snap_id == 3528')"
   ]
  },
  {
   "cell_type": "code",
   "execution_count": null,
   "metadata": {},
   "outputs": [],
   "source": [
    "from boardlaw import sql, elos\n",
    "trials = sql.trial_query(7, 'bee/%')\n",
    "ws, gs = elos.symmetrize(trials)"
   ]
  },
  {
   "cell_type": "code",
   "execution_count": null,
   "metadata": {},
   "outputs": [],
   "source": [
    "ags.loc[gs.loc[23022].loc[lambda df: df > 0].index]"
   ]
  },
  {
   "cell_type": "code",
   "execution_count": null,
   "metadata": {},
   "outputs": [],
   "source": [
    "idx = ags.query('width >= 256').sort_values(['width', 'run', 'snap_id', 'test_nodes']).index\n",
    "plt.imshow(gs.reindex(index=idx, columns=idx))"
   ]
  },
  {
   "cell_type": "code",
   "execution_count": null,
   "metadata": {},
   "outputs": [],
   "source": [
    "import networkx as nx\n",
    "G = nx.from_pandas_adjacency(gs)"
   ]
  },
  {
   "cell_type": "code",
   "execution_count": null,
   "metadata": {},
   "outputs": [],
   "source": [
    "list(nx.connected_components(G))[1]"
   ]
  },
  {
   "cell_type": "code",
   "execution_count": null,
   "metadata": {},
   "outputs": [],
   "source": [
    "ags.loc[list({21144, 21269, 21394, 21519, 21644, 21769, 21894, 22449, 23004})]"
   ]
  },
  {
   "cell_type": "code",
   "execution_count": null,
   "metadata": {},
   "outputs": [],
   "source": [
    "ags.query('snap_id == 3635')"
   ]
  }
 ],
 "metadata": {
  "kernelspec": {
   "display_name": "Python 3",
   "language": "python",
   "name": "python3"
  },
  "language_info": {
   "codemirror_mode": {
    "name": "ipython",
    "version": 3
   },
   "file_extension": ".py",
   "mimetype": "text/x-python",
   "name": "python",
   "nbconvert_exporter": "python",
   "pygments_lexer": "ipython3"
  }
 },
 "nbformat": 4,
 "nbformat_minor": 4
}
